{
 "cells": [
  {
   "cell_type": "markdown",
   "metadata": {},
   "source": [
    "# $$Assignment-No-01$$\n",
    "\n",
    "**Subject:** \n",
    "Artificial Intelligence\n",
    "\n",
    "**Group Members:**  \n",
    "1. Muhmmad Zeeshan   - 210711  \n",
    "2. Umer Zaki         - 211909  \n",
    "3. Muhammad Abdullah - 210779 \n",
    "\n",
    "\n"
   ]
  },
  {
   "cell_type": "code",
   "execution_count": 184,
   "metadata": {},
   "outputs": [],
   "source": [
    "import heapq"
   ]
  },
  {
   "cell_type": "markdown",
   "metadata": {},
   "source": [
    "# Uniform Cost Search"
   ]
  },
  {
   "cell_type": "code",
   "execution_count": 185,
   "metadata": {},
   "outputs": [],
   "source": [
    "def uniform_cost_search(start, goal, graph):\n",
    "    \"\"\"Perform UCS while tracking queue states, final cost, and total time.\"\"\"\n",
    "    priority_queue = []\n",
    "    heapq.heappush(priority_queue, (0, start))  # (cost, node)\n",
    "    visited = []\n",
    "    visited_set = set()\n",
    "    queue_states = []  # Stores queue states at each step\n",
    "    final_cost = -1  # Initialize final cost\n",
    "\n",
    "    while priority_queue:\n",
    "        # Store queue state before popping\n",
    "        queue_states.append(sorted(priority_queue, key=lambda x: (x[0], x[1])))  # Sort by cost, then node number\n",
    "\n",
    "        cost, node = heapq.heappop(priority_queue)\n",
    "\n",
    "        if node in visited_set:\n",
    "            continue\n",
    "\n",
    "        visited.append(f\"{node}(g={cost})\")  # Store node as \"node(g=n)\"\n",
    "        visited_set.add(node)\n",
    "\n",
    "        if node == goal:\n",
    "            final_cost = cost  # Store the final cost to reach the goal\n",
    "            total_time = len(visited)  # UCS total time = number of nodes visited\n",
    "            return visited, queue_states, final_cost, total_time  # Return all values\n",
    "\n",
    "        # Expand neighbors\n",
    "        for neighbor in sorted(graph[node]):  # Expand smaller nodes first\n",
    "            if neighbor not in visited_set:\n",
    "                heapq.heappush(priority_queue, (cost + 1, neighbor))  # Increase cost by 1\n",
    "\n",
    "    return visited, queue_states, final_cost, -1  # If no path found, return -1 for time"
   ]
  },
  {
   "cell_type": "markdown",
   "metadata": {},
   "source": [
    "# Manhattan Distance\n",
    "\n",
    "\n",
    "The Manhattan Distance formula is:\n",
    "\n",
    "$$\n",
    "h(n) = |x_{\\text{goal}} - x_n| + |y_{\\text{goal}} - y_n|\n",
    "$$\n",
    "\n",
    "### Explanation:\n",
    "- $(x_n, y_n)$ → **Current node coordinates**\n",
    "- $(x_{\\text{goal}}, y_{\\text{goal}})$ → **Goal node coordinates**\n",
    "- $|x_{\\text{goal}} - x_n|$ → **Horizontal distance**\n",
    "- $|y_{\\text{goal}} - y_n|$ → **Vertical distance**\n",
    "- **Summing both gives the total distance along grid lines.**"
   ]
  },
  {
   "cell_type": "code",
   "execution_count": 186,
   "metadata": {},
   "outputs": [],
   "source": [
    "def manhattan_distance(node, goal, positions):\n",
    "    \"\"\"Compute Manhattan Distance Heuristic.\"\"\"\n",
    "    x1, y1 = positions[node]\n",
    "    x2, y2 = positions[goal]\n",
    "    return abs(x1 - x2) + abs(y1 - y2)"
   ]
  },
  {
   "cell_type": "markdown",
   "metadata": {},
   "source": [
    "# $ A^* $ Algorithum\n",
    "\n"
   ]
  },
  {
   "cell_type": "code",
   "execution_count": 187,
   "metadata": {},
   "outputs": [],
   "source": [
    "def a_star_search(start, goal, graph, positions):\n",
    "    \"\"\"Perform A* Search ensuring correct sorting of queue by h(n), then by node value.\"\"\"\n",
    "    priority_queue = []\n",
    "    heapq.heappush(priority_queue, (manhattan_distance(start, goal, positions), start, 0))  # (h(n), node, g)\n",
    "    visited = []\n",
    "    visited_set = set()\n",
    "    queue_states = []  # Stores queue states at each step\n",
    "    final_cost = -1  # Initialize final cost\n",
    "\n",
    "    while priority_queue:\n",
    "        # Store queue state before popping\n",
    "        queue_states.append(sorted(priority_queue, key=lambda x: (x[0], x[1])))  # Sort by h(n), then node number\n",
    "\n",
    "        h_n, node, g = heapq.heappop(priority_queue)\n",
    "\n",
    "        if node in visited_set:\n",
    "            continue\n",
    "\n",
    "        visited.append(f\"{node}({h_n})\")  # Store as node(h(n) + g)\n",
    "        visited_set.add(node)\n",
    "\n",
    "        if node == goal:\n",
    "            final_cost = g  # Store the final cost to reach the goal\n",
    "            total_time = len(visited)  # A* total time = number of nodes visited\n",
    "            return visited, queue_states, final_cost, total_time  # Return all values\n",
    "\n",
    "        # Add neighbors to queue **in the same loop**\n",
    "        temp_queue = []\n",
    "        for neighbor in sorted(graph[node]):  # Expand smaller nodes first\n",
    "            if neighbor not in visited_set:\n",
    "                h = manhattan_distance(neighbor, goal, positions)\n",
    "                h_new = g + 1 + h  # h(n) = g + h\n",
    "                temp_queue.append((h_new, neighbor, g + 1))\n",
    "\n",
    "        # **Sort queue before pushing** (by h(n), then by node value)\n",
    "        temp_queue.sort(key=lambda x: (x[0], x[1]))\n",
    "\n",
    "        for item in temp_queue:\n",
    "            heapq.heappush(priority_queue, item)\n",
    "\n",
    "    return visited, queue_states, final_cost, -1  # If no path found, return -1 for time"
   ]
  },
  {
   "cell_type": "code",
   "execution_count": 188,
   "metadata": {},
   "outputs": [],
   "source": [
    "graph = {\n",
    "    0: [1, 8],  \n",
    "    1: [0, 2],  \n",
    "    2: [1, 10],  \n",
    "    3: [4, 11],  \n",
    "    4: [3, 5],  \n",
    "    5: [4, 6],  \n",
    "    6: [5],  \n",
    "    7: [15],  \n",
    "    8: [0, 9, 16],  \n",
    "    9: [8],  \n",
    "    10: [ 2, 18],  \n",
    "    11: [3,19],  \n",
    "    12: [13],  \n",
    "    13: [12, 14, 21],  \n",
    "    14: [13, 15],  \n",
    "    15: [7,14, 23],  \n",
    "    16: [8, 17, 24],  \n",
    "    17: [16],  \n",
    "    18: [10, 19],  \n",
    "    19: [11,18,20],  \n",
    "    20: [19,28],  \n",
    "    21: [13, 22],  \n",
    "    22: [21],  \n",
    "    23: [15, 31],  \n",
    "    24: [16, 25],  \n",
    "    25: [24,26],  \n",
    "    26: [25,27],  \n",
    "    27: [26,35],  \n",
    "    28: [20, 29],  \n",
    "    29: [28,30],  \n",
    "    30: [29,31],  \n",
    "    31: [23,30],  \n",
    "    32: [33, 40],  \n",
    "    33: [32, 34],  \n",
    "    34: [33, 35],  \n",
    "    35: [27, 34, 36],  \n",
    "    36: [35, 37],  \n",
    "    37: [36],  \n",
    "    38: [39, 46],  \n",
    "    39: [38, 47],  \n",
    "    40: [32, 48],  \n",
    "    41: [42, 49],  \n",
    "    42: [41, 43, 50],  \n",
    "    43: [42, 44, 51],  \n",
    "    44: [43, 45],  \n",
    "    45: [44, 46, 53],  \n",
    "    46: [38, 45],  \n",
    "    47: [39, 56],  \n",
    "    48: [40, 56],  \n",
    "    49: [41, 50],  \n",
    "    50: [42, 49],  \n",
    "    51: [43, 59],  \n",
    "    52: [53],  \n",
    "    53: [45, 52, 61],  \n",
    "    54: [62],  \n",
    "    55: [47, 63],  \n",
    "    56: [48, 57],  \n",
    "    57: [56, 58],  \n",
    "    58: [57, 59],  \n",
    "    59: [51, 58, 60],  \n",
    "    60: [59],  \n",
    "    61: [53],  # Goal Node\n",
    "    62: [54, 63],  # Goal Node\n",
    "    63: [55, 62]   # Goal Node\n",
    "}\n",
    "\n",
    "positions = {\n",
    "    0: (0,0),  1: (0,1),  2: (0,2),  3: (0,3),  4: (0,4),  5: (0,5),  6: (0,6),  7: (0,7),\n",
    "    8: (1,0),  9: (1,1), 10: (1,2), 11: (1,3), 12: (1,4), 13: (1,5), 14: (1,6), 15: (1,7),\n",
    "    16: (2,0), 17: (2,1), 18: (2,2), 19: (2,3), 20: (2,4), 21: (2,5), 22: (2,6), 23: (2,7),\n",
    "    24: (3,0), 25: (3,1), 26: (3,2), 27: (3,3), 28: (3,4), 29: (3,5), 30: (3,6), 31: (3,7),\n",
    "    32: (4,0), 33: (4,1), 34: (4,2), 35: (4,3), 36: (4,4), 37: (4,5), 38: (4,6), 39: (4,7),\n",
    "    40: (5,0), 41: (5,1), 42: (5,2), 43: (5,3), 44: (5,4), 45: (5,5), 46: (5,6), 47: (5,7),\n",
    "    48: (6,0), 49: (6,1), 50: (6,2), 51: (6,3), 52: (6,4), 53: (6,5), 54: (6,6), 55: (6,7),\n",
    "    56: (7,0), 57: (7,1), 58: (7,2), 59: (7,3), 60: (7,4), 61: (7,5), 62: (7,6), 63: (7,7)\n",
    "}\n",
    "start = 0\n",
    "goal = 61\n",
    "\n"
   ]
  },
  {
   "cell_type": "markdown",
   "metadata": {},
   "source": [
    "# Part-1\n",
    "If C-3PO uses a uniform cost search, how many nodes will it explore\n",
    "and how long will it take C-3PO to escape the cave?"
   ]
  },
  {
   "cell_type": "code",
   "execution_count": 189,
   "metadata": {},
   "outputs": [
    {
     "name": "stdout",
     "output_type": "stream",
     "text": [
      "Visited Nodes: ['0(g=0)', '1(g=1)', '8(g=1)', '2(g=2)', '9(g=2)', '16(g=2)', '10(g=3)', '17(g=3)', '24(g=3)', '18(g=4)', '25(g=4)', '19(g=5)', '26(g=5)', '11(g=6)', '20(g=6)', '27(g=6)', '3(g=7)', '28(g=7)', '35(g=7)', '4(g=8)', '29(g=8)', '34(g=8)', '36(g=8)', '5(g=9)', '30(g=9)', '33(g=9)', '37(g=9)', '6(g=10)', '31(g=10)', '32(g=10)', '23(g=11)', '40(g=11)', '15(g=12)', '48(g=12)', '7(g=13)', '14(g=13)', '56(g=13)', '13(g=14)', '57(g=14)', '12(g=15)', '21(g=15)', '58(g=15)', '22(g=16)', '59(g=16)', '51(g=17)', '60(g=17)', '43(g=18)', '42(g=19)', '44(g=19)', '41(g=20)', '45(g=20)', '50(g=20)', '46(g=21)', '49(g=21)', '53(g=21)', '38(g=22)', '52(g=22)', '61(g=22)']\n",
      "Total Cost: 22\n",
      "Total Time: 58\n"
     ]
    }
   ],
   "source": [
    "\n",
    "\n",
    "visited_nodes1, queue_state,final_cost1, total_time1 = uniform_cost_search(start, goal, graph)\n",
    "print(\"Visited Nodes:\", visited_nodes1)\n",
    "# print(\"Queue States at Each Step:\")\n",
    "# for step, state in enumerate(queue_state1):\n",
    "#     print(f\"Step {step}: {state}\")\n",
    "print(\"Total Cost:\", final_cost1)\n",
    "print(\"Total Time:\", total_time1)\n",
    "\n",
    "\n"
   ]
  },
  {
   "cell_type": "markdown",
   "metadata": {},
   "source": [
    "# Part-2\n",
    "\n",
    "What if the Dark Lord also has the knowledge about the Uniform\n",
    "Cost Search, he updates the time of the explosive so that Uniform Cost Search will not work anymore for\n",
    "C-3PO. What choice does C-3PO have now? Having studied search algorithms, C-3PO knows that A*\n",
    "search works faster than uniform cost search. He uses A* search with the Manhattan distance heuristic.\n",
    "How much time will C-3PO take now to find the path out of the cave?"
   ]
  },
  {
   "cell_type": "code",
   "execution_count": 190,
   "metadata": {},
   "outputs": [
    {
     "name": "stdout",
     "output_type": "stream",
     "text": [
      "Visited Nodes: ['0(12)', '1(12)', '2(12)', '8(12)', '9(12)', '10(12)', '16(12)', '17(12)', '18(12)', '19(12)', '20(12)', '24(12)', '25(12)', '26(12)', '27(12)', '28(12)', '29(12)', '35(12)', '36(12)', '37(12)', '11(14)', '30(14)', '34(14)', '3(16)', '4(16)', '5(16)', '31(16)', '33(16)', '6(18)', '23(18)', '32(18)', '40(18)', '48(18)', '56(18)', '57(18)', '58(18)', '59(18)', '60(18)', '15(20)', '14(20)', '13(20)', '21(20)', '51(20)', '7(22)', '12(22)', '22(22)', '43(22)', '44(22)', '45(22)', '53(22)', '61(22)']\n",
      "Total Cost: 22\n",
      "Total Time (Nodes Visited): 51\n"
     ]
    }
   ],
   "source": [
    "visited_nodes2, queue_states2, final_cost2,total_time2 = a_star_search(start, goal , graph, positions)\n",
    "\n",
    "# Print results\n",
    "print(\"Visited Nodes:\", visited_nodes2)\n",
    "# print(\"\\nQueue States at Each Step:\")\n",
    "# for step, state in enumerate(queue_states2):\n",
    "#     print(f\"Step {step}: {state}\")\n",
    "print(\"Total Cost:\", final_cost2)\n",
    "print(\"Total Time (Nodes Visited):\", total_time2)"
   ]
  },
  {
   "cell_type": "markdown",
   "metadata": {},
   "source": [
    "# Part-3\n",
    "\n",
    "How does identifying and utilizing bottlenecks in a maze impact A* search efficiency, and how can splitting the search into two segments improve C-3PO’s escape time?"
   ]
  },
  {
   "cell_type": "code",
   "execution_count": 191,
   "metadata": {},
   "outputs": [
    {
     "name": "stdout",
     "output_type": "stream",
     "text": [
      "Visited Nodes(0-21): ['0(6)', '1(6)', '2(6)', '8(6)', '9(6)', '10(6)', '16(6)', '17(6)', '18(6)', '19(6)', '24(6)', '25(6)', '26(6)', '27(6)']\n",
      "Total Cost(0-27): 6\n",
      "Total Time(0-27) (Nodes Visited): 14\n",
      "\n",
      "Visited Nodes(35-61): ['35(5)', '36(5)', '37(5)', '27(7)', '34(7)', '26(9)', '33(9)', '25(11)', '32(11)', '40(11)', '48(11)', '56(11)', '57(11)', '58(11)', '59(11)', '60(11)', '24(13)', '51(13)', '16(15)', '17(15)', '43(15)', '44(15)', '45(15)', '53(15)', '61(15)']\n",
      "Total Cost(35-61): 15\n",
      "Total Time (35-61)(Nodes Visited): 25\n",
      "\n",
      "Total Time (Nodes Visited): 39\n",
      "\n",
      "Total Cost: 21\n"
     ]
    }
   ],
   "source": [
    "visited3a, queue_states3a, final_cost3a,total_time3a = a_star_search(0, 27, graph, positions)\n",
    "# Print results\n",
    "print(\"Visited Nodes(0-21):\", visited3a)\n",
    "# print(\"\\nQueue States at Each Step(0-21):\")\n",
    "# for step, state in enumerate(queue_states):\n",
    "#     print(f\"Step {step}: {state}\")\n",
    "print(\"Total Cost(0-27):\", final_cost3a)\n",
    "print(\"Total Time(0-27) (Nodes Visited):\", total_time3a)\n",
    "\n",
    "visited3b, queue_states3b,final_cost3b, total_time3b = a_star_search(35, 61, graph, positions)\n",
    "\n",
    "# Print results\n",
    "print(\"\\nVisited Nodes(35-61):\", visited3b)\n",
    "# print(\"\\nQueue States at Each Step(35-61):\")\n",
    "# for step, state in enumerate(queue_states):\n",
    "#     print(f\"Step {step}: {state}\")\n",
    "print(\"Total Cost(35-61):\", final_cost3b)\n",
    "print(\"Total Time (35-61)(Nodes Visited):\", total_time3b)\n",
    "\n",
    "total_time3 = total_time3a + total_time3b\n",
    "\n",
    "print(\"\\nTotal Time (Nodes Visited):\", total_time3)\n",
    "\n",
    "final_cost3=final_cost3a+final_cost3b\n",
    "print(\"\\nTotal Cost:\", final_cost3)"
   ]
  },
  {
   "cell_type": "markdown",
   "metadata": {},
   "source": [
    "## References\n",
    "\n",
    "1. **Class Lectures**  \n",
    "   - Course materials and explanations provided in class.\n",
    "\n",
    "2. **Uniform Cost Search (UCS) Explanation**  \n",
    "   [![Uniform Cost Search](https://img.youtube.com/vi/dRMvK76xQJI/0.jpg)](https://www.youtube.com/watch?v=dRMvK76xQJI)  \n",
    "   [https://www.youtube.com/watch?v=dRMvK76xQJI](https://www.youtube.com/watch?v=dRMvK76xQJI)\n",
    "\n",
    "3. **A* Search Algorithm Explanation**  \n",
    "   [![A* Search Algorithm](https://img.youtube.com/vi/6TsL96NAZCo/0.jpg)](https://www.youtube.com/watch?v=6TsL96NAZCo)  \n",
    "   [https://www.youtube.com/watch?v=6TsL96NAZCo](https://www.youtube.com/watch?v=6TsL96NAZCo)\n",
    "\n",
    "---\n",
    "\n",
    "## Deadline  \n",
    "\n",
    "**Submission Date:** **23-03-2025**\n"
   ]
  }
 ],
 "metadata": {
  "kernelspec": {
   "display_name": "myenv",
   "language": "python",
   "name": "python3"
  },
  "language_info": {
   "codemirror_mode": {
    "name": "ipython",
    "version": 3
   },
   "file_extension": ".py",
   "mimetype": "text/x-python",
   "name": "python",
   "nbconvert_exporter": "python",
   "pygments_lexer": "ipython3",
   "version": "3.9.20"
  }
 },
 "nbformat": 4,
 "nbformat_minor": 2
}
